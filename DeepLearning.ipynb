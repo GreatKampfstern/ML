{
 "cells": [
  {
   "cell_type": "markdown",
   "metadata": {},
   "source": [
    "# Programm zur Erkennung von Hunderassen"
   ]
  },
  {
   "cell_type": "markdown",
   "metadata": {},
   "source": [
    "## Schritt 1: Daten laden und Aufteilen in Trainings- und Testdaten"
   ]
  },
  {
   "cell_type": "code",
   "execution_count": null,
   "metadata": {},
   "outputs": [],
   "source": [
    "# Importieren der notwendigen Bibliotheken\n",
    "import os\n",
    "import numpy as np\n",
    "import xml.etree.ElementTree as ET\n",
    "from skimage import io, color, transform\n",
    "from sklearn.model_selection import train_test_split\n",
    "from sklearn.preprocessing import LabelEncoder\n"
   ]
  },
  {
   "cell_type": "code",
   "execution_count": null,
   "metadata": {},
   "outputs": [],
   "source": [
    "# Definieren der Pfade zum Datensatz und zu den Annotationen\n",
    "dataset_path = 'dogs'\n",
    "annotation_path = 'annotations'\n"
   ]
  },
  {
   "cell_type": "code",
   "execution_count": null,
   "metadata": {},
   "outputs": [],
   "source": [
    "# Funktion zum Parsen der Annotationsdateien\n",
    "def parse_annotation(xml_file):\n",
    "    tree = ET.parse(xml_file)\n",
    "    root = tree.getroot()\n",
    "    bndboxes = []\n",
    "    for obj in root.findall('object'):\n",
    "        bndbox = obj.find('bndbox')\n",
    "        xmin = int(float(bndbox.find('xmin').text))\n",
    "        ymin = int(float(bndbox.find('ymin').text))\n",
    "        xmax = int(float(bndbox.find('xmax').text))\n",
    "        ymax = int(float(bndbox.find('ymax').text))\n",
    "        bndboxes.append((xmin, ymin, xmax, ymax))\n",
    "    return bndboxes\n"
   ]
  },
  {
   "cell_type": "code",
   "execution_count": null,
   "metadata": {},
   "outputs": [],
   "source": [
    "# Laden der Bilder und Extrahieren der Hundebereiche\n",
    "images = []\n",
    "labels = []\n",
    "breeds = os.listdir(dataset_path)\n",
    "\n",
    "for breed in breeds:\n",
    "    breed_img_path = os.path.join(dataset_path, breed)\n",
    "    breed_anno_path = os.path.join(annotation_path, breed)\n",
    "    if os.path.isdir(breed_img_path):\n",
    "        for img_name in os.listdir(breed_img_path):\n",
    "            img_path = os.path.join(breed_img_path, img_name)\n",
    "            annotation_name = os.path.splitext(img_name)[0]\n",
    "            annotation_file = os.path.join(breed_anno_path, annotation_name)\n",
    "            if not os.path.exists(annotation_file):\n",
    "                continue  # Überspringe Bilder ohne Annotation\n",
    "            image = io.imread(img_path)\n",
    "            if image is None:\n",
    "                continue\n",
    "            bndboxes = parse_annotation(annotation_file)\n",
    "            for bndbox in bndboxes:\n",
    "                xmin, ymin, xmax, ymax = bndbox\n",
    "                xmin = max(0, xmin)\n",
    "                ymin = max(0, ymin)\n",
    "                xmax = min(image.shape[1], xmax)\n",
    "                ymax = min(image.shape[0], ymax)\n",
    "                if xmin >= xmax or ymin >= ymax:\n",
    "                    continue  # Ungültige Bounding Box überspringen\n",
    "                cropped_image = image[ymin:ymax, xmin:xmax]\n",
    "                cropped_image = transform.resize(cropped_image, (256, 256))\n",
    "                images.append(cropped_image)\n",
    "                labels.append(breed)\n"
   ]
  },
  {
   "cell_type": "code",
   "execution_count": null,
   "metadata": {},
   "outputs": [],
   "source": [
    "# Umwandeln der Labels in numerische Werte\n",
    "le = LabelEncoder()\n",
    "y = le.fit_transform(labels)\n",
    "\n",
    "# Überprüfen, ob Bilder geladen wurden\n",
    "if len(images) == 0:\n",
    "\tprint(\"Fehler: Keine Bilder geladen. Bitte überprüfen Sie den Pfad und die Annotationsdateien.\")\n",
    "else:\n",
    "\t# Aufteilen in Trainings- und Testdaten\n",
    "\tX_train_img, X_test_img, y_train, y_test = train_test_split(images, y, test_size=0.25, stratify=y, random_state=42)\n"
   ]
  },
  {
   "cell_type": "code",
   "execution_count": null,
   "metadata": {},
   "outputs": [],
   "source": [
    "# Überprüfen der Anzahl der geladenen Bilder\n",
    "print(f'Anzahl der gesamten Bilder: {len(images)}')\n",
    "print(f'Anzahl der Trainingsbilder: {len(X_train_img)}')\n",
    "print(f'Anzahl der Testbilder: {len(X_test_img)}')\n"
   ]
  },
  {
   "cell_type": "markdown",
   "metadata": {},
   "source": [
    "## 2./3. Schritt: Netzarchitektur festlegen und implementieren"
   ]
  },
  {
   "cell_type": "code",
   "execution_count": null,
   "metadata": {},
   "outputs": [],
   "source": [
    "from tensorflow.keras.models import Sequential\n",
    "from tensorflow.keras.layers import Conv2D, MaxPooling2D, Flatten, Dense, Dropout\n",
    "from tensorflow.keras.optimizers import Adam\n",
    "\n",
    "# Definieren der Modellarchitektur\n",
    "def build_model(input_shape, num_classes):\n",
    "    model = Sequential()\n",
    "\n",
    "    # Erstes Convolutional und MaxPooling Layer\n",
    "    model.add(Conv2D(32, (3, 3), activation='relu', input_shape=input_shape))\n",
    "    model.add(MaxPooling2D(pool_size=(2, 2)))\n",
    "\n",
    "    # Zweites Convolutional und MaxPooling Layer\n",
    "    model.add(Conv2D(64, (3, 3), activation='relu'))\n",
    "    model.add(MaxPooling2D(pool_size=(2, 2)))\n",
    "\n",
    "    # Drittes Convolutional und MaxPooling Layer\n",
    "    model.add(Conv2D(128, (3, 3), activation='relu'))\n",
    "    model.add(MaxPooling2D(pool_size=(2, 2)))\n",
    "\n",
    "    # Vierte Convolutional und MaxPooling Layer\n",
    "    model.add(Conv2D(128, (3, 3), activation='relu'))\n",
    "    model.add(MaxPooling2D(pool_size=(2, 2)))\n",
    "\n",
    "    # Flatten Layer\n",
    "    model.add(Flatten())\n",
    "\n",
    "    # Volle Schicht mit Dropout für Regulierung\n",
    "    model.add(Dense(512, activation='relu'))\n",
    "    model.add(Dropout(0.5))\n",
    "\n",
    "    # Ausgabeschicht\n",
    "    model.add(Dense(num_classes, activation='softmax'))\n",
    "\n",
    "    return model\n",
    "\n",
    "# Annahme: input_shape = (256, 256, 3) als Beispiel und num_classes musst du entsprechend deiner Daten setzen\n",
    "input_shape = (256, 256, 3)\n",
    "num_classes = len(np.unique(y_train))  # Anzahl der Hunderassen\n",
    "\n",
    "# Modell erstellen\n",
    "model = build_model(input_shape, num_classes)\n",
    "\n",
    "# Modell kompilieren\n",
    "# Wir werden die Loss-Funktion und den Optimizer im nächsten Schritt diskutieren und festlegen\n",
    "model.compile(optimizer='adam', loss='sparse_categorical_crossentropy', metrics=['accuracy'])"
   ]
  },
  {
   "cell_type": "markdown",
   "metadata": {},
   "source": [
    "## 4. Schritt: Wahl einer geeigneten Lossfunktion und eines Optimizers"
   ]
  },
  {
   "cell_type": "code",
   "execution_count": null,
   "metadata": {},
   "outputs": [],
   "source": [
    "from sklearn.model_selection import KFold\n",
    "from tensorflow.keras.utils import to_categorical\n",
    "import numpy as np\n",
    "\n",
    "# Umwandeln der Zielwerte in One-Hot Kodierung (falls nötig)\n",
    "y_train_categorical = to_categorical(y_train, num_classes=num_classes)\n",
    "\n",
    "# Initialisierung der K-Fold Kreuzvalidierung\n",
    "kfold = KFold(n_splits=3, shuffle=True, random_state=42)\n",
    "fold_no = 1\n",
    "scores = []\n",
    "\n",
    "# Kreuzvalidierung\n",
    "for train_idx, val_idx in kfold.split(X_train_img, y_train_categorical):\n",
    "    # Modell erstellen\n",
    "    model = build_model(input_shape, num_classes)\n",
    "    model.compile(optimizer='adam', loss='categorical_crossentropy', metrics=['accuracy'])\n",
    "    \n",
    "    print(f'Training für fold {fold_no}...')\n",
    "    \n",
    "    # Fit Modell\n",
    "    history = model.fit(np.array(X_train_img)[train_idx], np.array(y_train_categorical)[train_idx],\n",
    "                        epochs=10, batch_size=32,\n",
    "                        validation_data=(np.array(X_train_img)[val_idx], np.array(y_train_categorical)[val_idx]))\n",
    "    \n",
    "    # Evaluierung auf dem Validierungsset\n",
    "    score = model.evaluate(np.array(X_train_img)[val_idx], np.array(y_train_categorical)[val_idx], verbose=0)\n",
    "    print(f\"Fold {fold_no} - Validation Loss: {score[0]} - Validation Accuracy: {score[1]}\")\n",
    "    scores.append(score[1])\n",
    "    \n",
    "    fold_no += 1\n",
    "\n",
    "# Ausgabe der mittleren und Standardabweichung der Validierungsgenauigkeit\n",
    "print(f\"Durchschnittliche Validierungsgenauigkeit: {np.mean(scores)}\")\n",
    "print(f\"Standardabweichung der Validierungsgenauigkeiten: {np.std(scores)}\")"
   ]
  },
  {
   "cell_type": "markdown",
   "metadata": {},
   "source": [
    "## 5. Schritt: Evaluation der Kreuzvalidierung"
   ]
  },
  {
   "cell_type": "code",
   "execution_count": null,
   "metadata": {},
   "outputs": [],
   "source": []
  }
 ],
 "metadata": {
  "kernelspec": {
   "display_name": "ml",
   "language": "python",
   "name": "python3"
  },
  "language_info": {
   "codemirror_mode": {
    "name": "ipython",
    "version": 3
   },
   "file_extension": ".py",
   "mimetype": "text/x-python",
   "name": "python",
   "nbconvert_exporter": "python",
   "pygments_lexer": "ipython3",
   "version": "3.10.7"
  }
 },
 "nbformat": 4,
 "nbformat_minor": 2
}
