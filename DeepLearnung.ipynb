{
 "cells": [
  {
   "cell_type": "markdown",
   "metadata": {},
   "source": [
    "# Programm zur Erkennung von Hunderassen"
   ]
  },
  {
   "cell_type": "markdown",
   "metadata": {},
   "source": [
    "## Schritt 1: Daten laden und Aufteilen in Trainings- und Testdaten"
   ]
  },
  {
   "cell_type": "code",
   "execution_count": 1,
   "metadata": {},
   "outputs": [],
   "source": [
    "# Importieren der notwendigen Bibliotheken\n",
    "import os\n",
    "import numpy as np\n",
    "import xml.etree.ElementTree as ET\n",
    "from skimage import io, color, transform\n",
    "from sklearn.model_selection import train_test_split\n",
    "from sklearn.preprocessing import LabelEncoder\n"
   ]
  },
  {
   "cell_type": "code",
   "execution_count": 2,
   "metadata": {},
   "outputs": [],
   "source": [
    "# Definieren der Pfade zum Datensatz und zu den Annotationen\n",
    "dataset_path = 'dogs'\n",
    "annotation_path = 'annotations'\n"
   ]
  },
  {
   "cell_type": "code",
   "execution_count": 3,
   "metadata": {},
   "outputs": [],
   "source": [
    "# Funktion zum Parsen der Annotationsdateien\n",
    "def parse_annotation(xml_file):\n",
    "    tree = ET.parse(xml_file)\n",
    "    root = tree.getroot()\n",
    "    bndboxes = []\n",
    "    for obj in root.findall('object'):\n",
    "        bndbox = obj.find('bndbox')\n",
    "        xmin = int(float(bndbox.find('xmin').text))\n",
    "        ymin = int(float(bndbox.find('ymin').text))\n",
    "        xmax = int(float(bndbox.find('xmax').text))\n",
    "        ymax = int(float(bndbox.find('ymax').text))\n",
    "        bndboxes.append((xmin, ymin, xmax, ymax))\n",
    "    return bndboxes\n"
   ]
  },
  {
   "cell_type": "code",
   "execution_count": 4,
   "metadata": {},
   "outputs": [],
   "source": [
    "# Laden der Bilder und Extrahieren der Hundebereiche\n",
    "images = []\n",
    "labels = []\n",
    "breeds = os.listdir(dataset_path)\n",
    "\n",
    "for breed in breeds:\n",
    "    breed_img_path = os.path.join(dataset_path, breed)\n",
    "    breed_anno_path = os.path.join(annotation_path, breed)\n",
    "    if os.path.isdir(breed_img_path):\n",
    "        for img_name in os.listdir(breed_img_path):\n",
    "            img_path = os.path.join(breed_img_path, img_name)\n",
    "            annotation_name = os.path.splitext(img_name)[0]\n",
    "            annotation_file = os.path.join(breed_anno_path, annotation_name)\n",
    "            if not os.path.exists(annotation_file):\n",
    "                continue  # Überspringe Bilder ohne Annotation\n",
    "            image = io.imread(img_path)\n",
    "            if image is None:\n",
    "                continue\n",
    "            bndboxes = parse_annotation(annotation_file)\n",
    "            for bndbox in bndboxes:\n",
    "                xmin, ymin, xmax, ymax = bndbox\n",
    "                xmin = max(0, xmin)\n",
    "                ymin = max(0, ymin)\n",
    "                xmax = min(image.shape[1], xmax)\n",
    "                ymax = min(image.shape[0], ymax)\n",
    "                if xmin >= xmax or ymin >= ymax:\n",
    "                    continue  # Ungültige Bounding Box überspringen\n",
    "                cropped_image = image[ymin:ymax, xmin:xmax]\n",
    "                cropped_image = transform.resize(cropped_image, (256, 256))\n",
    "                images.append(cropped_image)\n",
    "                labels.append(breed)\n"
   ]
  },
  {
   "cell_type": "code",
   "execution_count": 5,
   "metadata": {},
   "outputs": [],
   "source": [
    "# Umwandeln der Labels in numerische Werte\n",
    "le = LabelEncoder()\n",
    "y = le.fit_transform(labels)\n",
    "\n",
    "# Überprüfen, ob Bilder geladen wurden\n",
    "if len(images) == 0:\n",
    "\tprint(\"Fehler: Keine Bilder geladen. Bitte überprüfen Sie den Pfad und die Annotationsdateien.\")\n",
    "else:\n",
    "\t# Aufteilen in Trainings- und Testdaten\n",
    "\tX_train_img, X_test_img, y_train, y_test = train_test_split(images, y, test_size=0.25, stratify=y, random_state=42)\n"
   ]
  },
  {
   "cell_type": "code",
   "execution_count": 6,
   "metadata": {},
   "outputs": [
    {
     "name": "stdout",
     "output_type": "stream",
     "text": [
      "Anzahl der gesamten Bilder: 1029\n",
      "Anzahl der Trainingsbilder: 771\n",
      "Anzahl der Testbilder: 258\n"
     ]
    }
   ],
   "source": [
    "# Überprüfen der Anzahl der geladenen Bilder\n",
    "print(f'Anzahl der gesamten Bilder: {len(images)}')\n",
    "print(f'Anzahl der Trainingsbilder: {len(X_train_img)}')\n",
    "print(f'Anzahl der Testbilder: {len(X_test_img)}')\n"
   ]
  },
  {
   "cell_type": "code",
   "execution_count": 7,
   "metadata": {},
   "outputs": [
    {
     "name": "stderr",
     "output_type": "stream",
     "text": [
      "C:\\Users\\OIJ1FE\\AppData\\Roaming\\Python\\Python310\\site-packages\\keras\\src\\layers\\convolutional\\base_conv.py:107: UserWarning: Do not pass an `input_shape`/`input_dim` argument to a layer. When using Sequential models, prefer using an `Input(shape)` object as the first layer in the model instead.\n",
      "  super().__init__(activity_regularizer=activity_regularizer, **kwargs)\n"
     ]
    }
   ],
   "source": [
    "from tensorflow.keras.models import Sequential\n",
    "from tensorflow.keras.layers import Conv2D, MaxPooling2D, Flatten, Dense, Dropout\n",
    "from tensorflow.keras.optimizers import Adam\n",
    "\n",
    "# Definieren der Modellarchitektur\n",
    "def build_model(input_shape, num_classes):\n",
    "    model = Sequential()\n",
    "\n",
    "    # Erstes Convolutional und MaxPooling Layer\n",
    "    model.add(Conv2D(32, (3, 3), activation='relu', input_shape=input_shape))\n",
    "    model.add(MaxPooling2D(pool_size=(2, 2)))\n",
    "\n",
    "    # Zweites Convolutional und MaxPooling Layer\n",
    "    model.add(Conv2D(64, (3, 3), activation='relu'))\n",
    "    model.add(MaxPooling2D(pool_size=(2, 2)))\n",
    "\n",
    "    # Drittes Convolutional und MaxPooling Layer\n",
    "    model.add(Conv2D(128, (3, 3), activation='relu'))\n",
    "    model.add(MaxPooling2D(pool_size=(2, 2)))\n",
    "\n",
    "    # Vierte Convolutional und MaxPooling Layer\n",
    "    model.add(Conv2D(128, (3, 3), activation='relu'))\n",
    "    model.add(MaxPooling2D(pool_size=(2, 2)))\n",
    "\n",
    "    # Flatten Layer\n",
    "    model.add(Flatten())\n",
    "\n",
    "    # Volle Schicht mit Dropout für Regulierung\n",
    "    model.add(Dense(512, activation='relu'))\n",
    "    model.add(Dropout(0.5))\n",
    "\n",
    "    # Ausgabeschicht\n",
    "    model.add(Dense(num_classes, activation='softmax'))\n",
    "\n",
    "    return model\n",
    "\n",
    "# Annahme: input_shape = (256, 256, 3) als Beispiel und num_classes musst du entsprechend deiner Daten setzen\n",
    "input_shape = (256, 256, 3)\n",
    "num_classes = len(np.unique(y_train))  # Anzahl der Hunderassen\n",
    "\n",
    "# Modell erstellen\n",
    "model = build_model(input_shape, num_classes)\n",
    "\n",
    "# Modell kompilieren\n",
    "# Wir werden die Loss-Funktion und den Optimizer im nächsten Schritt diskutieren und festlegen\n",
    "model.compile(optimizer='adam', loss='sparse_categorical_crossentropy', metrics=['accuracy'])"
   ]
  },
  {
   "cell_type": "code",
   "execution_count": 8,
   "metadata": {},
   "outputs": [],
   "source": [
    "# Modell kompilieren - dies ist bereits im vorherigen Schritt enthalten\n",
    "model.compile(optimizer='adam', loss='sparse_categorical_crossentropy', metrics=['accuracy'])"
   ]
  },
  {
   "cell_type": "code",
   "execution_count": 10,
   "metadata": {},
   "outputs": [
    {
     "name": "stdout",
     "output_type": "stream",
     "text": [
      "Training für fold 1...\n",
      "Epoch 1/10\n",
      "\u001b[1m17/17\u001b[0m \u001b[32m━━━━━━━━━━━━━━━━━━━━\u001b[0m\u001b[37m\u001b[0m \u001b[1m14s\u001b[0m 740ms/step - accuracy: 0.2306 - loss: 2.0073 - val_accuracy: 0.2529 - val_loss: 1.6220\n",
      "Epoch 2/10\n",
      "\u001b[1m17/17\u001b[0m \u001b[32m━━━━━━━━━━━━━━━━━━━━\u001b[0m\u001b[37m\u001b[0m \u001b[1m12s\u001b[0m 706ms/step - accuracy: 0.3310 - loss: 1.4702 - val_accuracy: 0.5136 - val_loss: 1.1527\n",
      "Epoch 3/10\n",
      "\u001b[1m17/17\u001b[0m \u001b[32m━━━━━━━━━━━━━━━━━━━━\u001b[0m\u001b[37m\u001b[0m \u001b[1m13s\u001b[0m 748ms/step - accuracy: 0.5317 - loss: 1.0711 - val_accuracy: 0.5253 - val_loss: 1.0967\n",
      "Epoch 4/10\n",
      "\u001b[1m17/17\u001b[0m \u001b[32m━━━━━━━━━━━━━━━━━━━━\u001b[0m\u001b[37m\u001b[0m \u001b[1m21s\u001b[0m 797ms/step - accuracy: 0.5728 - loss: 1.0258 - val_accuracy: 0.5914 - val_loss: 1.0696\n",
      "Epoch 5/10\n",
      "\u001b[1m17/17\u001b[0m \u001b[32m━━━━━━━━━━━━━━━━━━━━\u001b[0m\u001b[37m\u001b[0m \u001b[1m19s\u001b[0m 721ms/step - accuracy: 0.6456 - loss: 0.9018 - val_accuracy: 0.6654 - val_loss: 0.8548\n",
      "Epoch 6/10\n",
      "\u001b[1m17/17\u001b[0m \u001b[32m━━━━━━━━━━━━━━━━━━━━\u001b[0m\u001b[37m\u001b[0m \u001b[1m21s\u001b[0m 719ms/step - accuracy: 0.7566 - loss: 0.6560 - val_accuracy: 0.5681 - val_loss: 1.1016\n",
      "Epoch 7/10\n",
      "\u001b[1m17/17\u001b[0m \u001b[32m━━━━━━━━━━━━━━━━━━━━\u001b[0m\u001b[37m\u001b[0m \u001b[1m12s\u001b[0m 710ms/step - accuracy: 0.7404 - loss: 0.6336 - val_accuracy: 0.5992 - val_loss: 1.0316\n",
      "Epoch 8/10\n",
      "\u001b[1m17/17\u001b[0m \u001b[32m━━━━━━━━━━━━━━━━━━━━\u001b[0m\u001b[37m\u001b[0m \u001b[1m13s\u001b[0m 756ms/step - accuracy: 0.8091 - loss: 0.4957 - val_accuracy: 0.5992 - val_loss: 1.0703\n",
      "Epoch 9/10\n",
      "\u001b[1m17/17\u001b[0m \u001b[32m━━━━━━━━━━━━━━━━━━━━\u001b[0m\u001b[37m\u001b[0m \u001b[1m12s\u001b[0m 691ms/step - accuracy: 0.8569 - loss: 0.3614 - val_accuracy: 0.6926 - val_loss: 1.0265\n",
      "Epoch 10/10\n",
      "\u001b[1m17/17\u001b[0m \u001b[32m━━━━━━━━━━━━━━━━━━━━\u001b[0m\u001b[37m\u001b[0m \u001b[1m12s\u001b[0m 736ms/step - accuracy: 0.8971 - loss: 0.2615 - val_accuracy: 0.5953 - val_loss: 1.4536\n",
      "Fold 1 - Validation Loss: 1.4536330699920654 - Validation Accuracy: 0.5953307151794434\n",
      "Training für fold 2...\n",
      "Epoch 1/10\n",
      "\u001b[1m17/17\u001b[0m \u001b[32m━━━━━━━━━━━━━━━━━━━━\u001b[0m\u001b[37m\u001b[0m \u001b[1m14s\u001b[0m 756ms/step - accuracy: 0.2594 - loss: 1.7397 - val_accuracy: 0.3307 - val_loss: 1.5131\n",
      "Epoch 2/10\n",
      "\u001b[1m17/17\u001b[0m \u001b[32m━━━━━━━━━━━━━━━━━━━━\u001b[0m\u001b[37m\u001b[0m \u001b[1m12s\u001b[0m 705ms/step - accuracy: 0.4484 - loss: 1.3118 - val_accuracy: 0.3385 - val_loss: 1.6091\n",
      "Epoch 3/10\n",
      "\u001b[1m17/17\u001b[0m \u001b[32m━━━━━━━━━━━━━━━━━━━━\u001b[0m\u001b[37m\u001b[0m \u001b[1m12s\u001b[0m 735ms/step - accuracy: 0.4537 - loss: 1.2568 - val_accuracy: 0.5019 - val_loss: 1.0784\n",
      "Epoch 4/10\n",
      "\u001b[1m17/17\u001b[0m \u001b[32m━━━━━━━━━━━━━━━━━━━━\u001b[0m\u001b[37m\u001b[0m \u001b[1m12s\u001b[0m 685ms/step - accuracy: 0.6020 - loss: 0.9976 - val_accuracy: 0.4591 - val_loss: 1.2248\n",
      "Epoch 5/10\n",
      "\u001b[1m17/17\u001b[0m \u001b[32m━━━━━━━━━━━━━━━━━━━━\u001b[0m\u001b[37m\u001b[0m \u001b[1m12s\u001b[0m 709ms/step - accuracy: 0.5628 - loss: 0.9737 - val_accuracy: 0.6070 - val_loss: 0.9161\n",
      "Epoch 6/10\n",
      "\u001b[1m17/17\u001b[0m \u001b[32m━━━━━━━━━━━━━━━━━━━━\u001b[0m\u001b[37m\u001b[0m \u001b[1m12s\u001b[0m 681ms/step - accuracy: 0.6990 - loss: 0.7692 - val_accuracy: 0.6031 - val_loss: 1.0142\n",
      "Epoch 7/10\n",
      "\u001b[1m17/17\u001b[0m \u001b[32m━━━━━━━━━━━━━━━━━━━━\u001b[0m\u001b[37m\u001b[0m \u001b[1m13s\u001b[0m 777ms/step - accuracy: 0.6993 - loss: 0.8502 - val_accuracy: 0.5875 - val_loss: 1.1117\n",
      "Epoch 8/10\n",
      "\u001b[1m17/17\u001b[0m \u001b[32m━━━━━━━━━━━━━━━━━━━━\u001b[0m\u001b[37m\u001b[0m \u001b[1m14s\u001b[0m 804ms/step - accuracy: 0.7177 - loss: 0.7370 - val_accuracy: 0.7198 - val_loss: 0.7685\n",
      "Epoch 9/10\n",
      "\u001b[1m17/17\u001b[0m \u001b[32m━━━━━━━━━━━━━━━━━━━━\u001b[0m\u001b[37m\u001b[0m \u001b[1m13s\u001b[0m 776ms/step - accuracy: 0.8477 - loss: 0.3929 - val_accuracy: 0.7276 - val_loss: 0.7344\n",
      "Epoch 10/10\n",
      "\u001b[1m17/17\u001b[0m \u001b[32m━━━━━━━━━━━━━━━━━━━━\u001b[0m\u001b[37m\u001b[0m \u001b[1m14s\u001b[0m 801ms/step - accuracy: 0.8820 - loss: 0.3559 - val_accuracy: 0.6498 - val_loss: 0.9749\n",
      "Fold 2 - Validation Loss: 0.9749253988265991 - Validation Accuracy: 0.6498054265975952\n",
      "Training für fold 3...\n",
      "Epoch 1/10\n",
      "\u001b[1m17/17\u001b[0m \u001b[32m━━━━━━━━━━━━━━━━━━━━\u001b[0m\u001b[37m\u001b[0m \u001b[1m14s\u001b[0m 776ms/step - accuracy: 0.2592 - loss: 1.6509 - val_accuracy: 0.2179 - val_loss: 1.5786\n",
      "Epoch 2/10\n",
      "\u001b[1m17/17\u001b[0m \u001b[32m━━━━━━━━━━━━━━━━━━━━\u001b[0m\u001b[37m\u001b[0m \u001b[1m12s\u001b[0m 725ms/step - accuracy: 0.4218 - loss: 1.3172 - val_accuracy: 0.5914 - val_loss: 1.1413\n",
      "Epoch 3/10\n",
      "\u001b[1m17/17\u001b[0m \u001b[32m━━━━━━━━━━━━━━━━━━━━\u001b[0m\u001b[37m\u001b[0m \u001b[1m13s\u001b[0m 752ms/step - accuracy: 0.6166 - loss: 0.9532 - val_accuracy: 0.6537 - val_loss: 0.9032\n",
      "Epoch 4/10\n",
      "\u001b[1m17/17\u001b[0m \u001b[32m━━━━━━━━━━━━━━━━━━━━\u001b[0m\u001b[37m\u001b[0m \u001b[1m12s\u001b[0m 684ms/step - accuracy: 0.6677 - loss: 0.8704 - val_accuracy: 0.6498 - val_loss: 0.9224\n",
      "Epoch 5/10\n",
      "\u001b[1m17/17\u001b[0m \u001b[32m━━━━━━━━━━━━━━━━━━━━\u001b[0m\u001b[37m\u001b[0m \u001b[1m13s\u001b[0m 752ms/step - accuracy: 0.7404 - loss: 0.7297 - val_accuracy: 0.5875 - val_loss: 0.9059\n",
      "Epoch 6/10\n",
      "\u001b[1m17/17\u001b[0m \u001b[32m━━━━━━━━━━━━━━━━━━━━\u001b[0m\u001b[37m\u001b[0m \u001b[1m12s\u001b[0m 710ms/step - accuracy: 0.7103 - loss: 0.7444 - val_accuracy: 0.6615 - val_loss: 0.8530\n",
      "Epoch 7/10\n",
      "\u001b[1m17/17\u001b[0m \u001b[32m━━━━━━━━━━━━━━━━━━━━\u001b[0m\u001b[37m\u001b[0m \u001b[1m12s\u001b[0m 694ms/step - accuracy: 0.7690 - loss: 0.6557 - val_accuracy: 0.6926 - val_loss: 0.7768\n",
      "Epoch 8/10\n",
      "\u001b[1m17/17\u001b[0m \u001b[32m━━━━━━━━━━━━━━━━━━━━\u001b[0m\u001b[37m\u001b[0m \u001b[1m13s\u001b[0m 747ms/step - accuracy: 0.8140 - loss: 0.5025 - val_accuracy: 0.6693 - val_loss: 0.8333\n",
      "Epoch 9/10\n",
      "\u001b[1m17/17\u001b[0m \u001b[32m━━━━━━━━━━━━━━━━━━━━\u001b[0m\u001b[37m\u001b[0m \u001b[1m14s\u001b[0m 796ms/step - accuracy: 0.8621 - loss: 0.3947 - val_accuracy: 0.6615 - val_loss: 1.0021\n",
      "Epoch 10/10\n",
      "\u001b[1m17/17\u001b[0m \u001b[32m━━━━━━━━━━━━━━━━━━━━\u001b[0m\u001b[37m\u001b[0m \u001b[1m14s\u001b[0m 802ms/step - accuracy: 0.8750 - loss: 0.3052 - val_accuracy: 0.7471 - val_loss: 0.8257\n",
      "Fold 3 - Validation Loss: 0.8256611824035645 - Validation Accuracy: 0.7470816969871521\n",
      "Durchschnittliche Validierungsgenauigkeit: 0.6640726129213969\n",
      "Standardabweichung der Validierungsgenauigkeiten: 0.06276811597246616\n"
     ]
    }
   ],
   "source": [
    "from sklearn.model_selection import KFold\n",
    "from tensorflow.keras.utils import to_categorical\n",
    "import numpy as np\n",
    "\n",
    "# Umwandeln der Zielwerte in One-Hot Kodierung (falls nötig)\n",
    "y_train_categorical = to_categorical(y_train, num_classes=num_classes)\n",
    "\n",
    "# Initialisierung der K-Fold Kreuzvalidierung\n",
    "kfold = KFold(n_splits=3, shuffle=True, random_state=42)\n",
    "fold_no = 1\n",
    "scores = []\n",
    "\n",
    "# Kreuzvalidierung\n",
    "for train_idx, val_idx in kfold.split(X_train_img, y_train_categorical):\n",
    "    # Modell erstellen\n",
    "    model = build_model(input_shape, num_classes)\n",
    "    model.compile(optimizer='adam', loss='categorical_crossentropy', metrics=['accuracy'])\n",
    "    \n",
    "    print(f'Training für fold {fold_no}...')\n",
    "    \n",
    "    # Fit Modell\n",
    "    history = model.fit(np.array(X_train_img)[train_idx], np.array(y_train_categorical)[train_idx],\n",
    "                        epochs=10, batch_size=32,\n",
    "                        validation_data=(np.array(X_train_img)[val_idx], np.array(y_train_categorical)[val_idx]))\n",
    "    \n",
    "    # Evaluierung auf dem Validierungsset\n",
    "    score = model.evaluate(np.array(X_train_img)[val_idx], np.array(y_train_categorical)[val_idx], verbose=0)\n",
    "    print(f\"Fold {fold_no} - Validation Loss: {score[0]} - Validation Accuracy: {score[1]}\")\n",
    "    scores.append(score[1])\n",
    "    \n",
    "    fold_no += 1\n",
    "\n",
    "# Ausgabe der mittleren und Standardabweichung der Validierungsgenauigkeit\n",
    "print(f\"Durchschnittliche Validierungsgenauigkeit: {np.mean(scores)}\")\n",
    "print(f\"Standardabweichung der Validierungsgenauigkeiten: {np.std(scores)}\")"
   ]
  }
 ],
 "metadata": {
  "kernelspec": {
   "display_name": "ml",
   "language": "python",
   "name": "python3"
  },
  "language_info": {
   "codemirror_mode": {
    "name": "ipython",
    "version": 3
   },
   "file_extension": ".py",
   "mimetype": "text/x-python",
   "name": "python",
   "nbconvert_exporter": "python",
   "pygments_lexer": "ipython3",
   "version": "3.10.7"
  }
 },
 "nbformat": 4,
 "nbformat_minor": 2
}
