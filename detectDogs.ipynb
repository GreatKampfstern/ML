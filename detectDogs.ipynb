{
 "cells": [
  {
   "cell_type": "markdown",
   "metadata": {},
   "source": [
    "# Programm zur Erkennung von Hunderassen"
   ]
  },
  {
   "cell_type": "markdown",
   "metadata": {},
   "source": [
    "## Schritt 1: Daten laden und Aufteilen in Trainings- und Testdaten"
   ]
  },
  {
   "cell_type": "code",
   "execution_count": 1,
   "metadata": {},
   "outputs": [],
   "source": [
    "# Importieren der notwendigen Bibliotheken\n",
    "import os\n",
    "import numpy as np\n",
    "import xml.etree.ElementTree as ET\n",
    "from skimage import io, color, transform\n",
    "from sklearn.model_selection import train_test_split\n",
    "from sklearn.preprocessing import LabelEncoder\n"
   ]
  },
  {
   "cell_type": "code",
   "execution_count": 2,
   "metadata": {},
   "outputs": [],
   "source": [
    "# Definieren der Pfade zum Datensatz und zu den Annotationen\n",
    "dataset_path = 'dogs'          # Passen Sie den Pfad an\n",
    "annotation_path = 'annotations'  # Passen Sie den Pfad an\n"
   ]
  },
  {
   "cell_type": "code",
   "execution_count": 3,
   "metadata": {},
   "outputs": [],
   "source": [
    "# Funktion zum Parsen der Annotationsdateien\n",
    "def parse_annotation(xml_file):\n",
    "    tree = ET.parse(xml_file)\n",
    "    root = tree.getroot()\n",
    "    bndboxes = []\n",
    "    for obj in root.findall('object'):\n",
    "        bndbox = obj.find('bndbox')\n",
    "        xmin = int(float(bndbox.find('xmin').text))\n",
    "        ymin = int(float(bndbox.find('ymin').text))\n",
    "        xmax = int(float(bndbox.find('xmax').text))\n",
    "        ymax = int(float(bndbox.find('ymax').text))\n",
    "        bndboxes.append((xmin, ymin, xmax, ymax))\n",
    "    return bndboxes\n"
   ]
  },
  {
   "cell_type": "code",
   "execution_count": 4,
   "metadata": {},
   "outputs": [],
   "source": [
    "# Laden der Bilder und Extrahieren der Hundebereiche\n",
    "images = []\n",
    "labels = []\n",
    "breeds = os.listdir(dataset_path)\n",
    "\n",
    "for breed in breeds:\n",
    "    breed_img_path = os.path.join(dataset_path, breed)\n",
    "    breed_anno_path = os.path.join(annotation_path, breed)\n",
    "    if os.path.isdir(breed_img_path):\n",
    "        for img_name in os.listdir(breed_img_path):\n",
    "            img_path = os.path.join(breed_img_path, img_name)\n",
    "            annotation_name = os.path.splitext(img_name)[0]\n",
    "            annotation_file = os.path.join(breed_anno_path, annotation_name)\n",
    "            if not os.path.exists(annotation_file):\n",
    "                continue  # Überspringe Bilder ohne Annotation\n",
    "            image = io.imread(img_path)\n",
    "            if image is None:\n",
    "                continue\n",
    "            bndboxes = parse_annotation(annotation_file)\n",
    "            for bndbox in bndboxes:\n",
    "                xmin, ymin, xmax, ymax = bndbox\n",
    "                xmin = max(0, xmin)\n",
    "                ymin = max(0, ymin)\n",
    "                xmax = min(image.shape[1], xmax)\n",
    "                ymax = min(image.shape[0], ymax)\n",
    "                if xmin >= xmax or ymin >= ymax:\n",
    "                    continue  # Ungültige Bounding Box überspringen\n",
    "                cropped_image = image[ymin:ymax, xmin:xmax]\n",
    "                cropped_image = transform.resize(cropped_image, (256, 256))\n",
    "                images.append(cropped_image)\n",
    "                labels.append(breed)\n"
   ]
  },
  {
   "cell_type": "code",
   "execution_count": 5,
   "metadata": {},
   "outputs": [],
   "source": [
    "# Umwandeln der Labels in numerische Werte\n",
    "le = LabelEncoder()\n",
    "y = le.fit_transform(labels)\n",
    "\n",
    "# Überprüfen, ob Bilder geladen wurden\n",
    "if len(images) == 0:\n",
    "\tprint(\"Fehler: Keine Bilder geladen. Bitte überprüfen Sie den Pfad und die Annotationsdateien.\")\n",
    "else:\n",
    "\t# Aufteilen in Trainings- und Testdaten\n",
    "\tX_train_img, X_test_img, y_train, y_test = train_test_split(images, y, test_size=0.25, stratify=y, random_state=42)\n"
   ]
  },
  {
   "cell_type": "code",
   "execution_count": 6,
   "metadata": {},
   "outputs": [
    {
     "name": "stdout",
     "output_type": "stream",
     "text": [
      "Anzahl der gesamten Bilder: 1029\n",
      "Anzahl der Trainingsbilder: 771\n",
      "Anzahl der Testbilder: 258\n"
     ]
    }
   ],
   "source": [
    "# Überprüfen der Anzahl der geladenen Bilder\n",
    "print(f'Anzahl der gesamten Bilder: {len(images)}')\n",
    "print(f'Anzahl der Trainingsbilder: {len(X_train_img)}')\n",
    "print(f'Anzahl der Testbilder: {len(X_test_img)}')\n"
   ]
  },
  {
   "cell_type": "code",
   "execution_count": null,
   "metadata": {},
   "outputs": [],
   "source": []
  }
 ],
 "metadata": {
  "kernelspec": {
   "display_name": "ml",
   "language": "python",
   "name": "python3"
  },
  "language_info": {
   "codemirror_mode": {
    "name": "ipython",
    "version": 3
   },
   "file_extension": ".py",
   "mimetype": "text/x-python",
   "name": "python",
   "nbconvert_exporter": "python",
   "pygments_lexer": "ipython3",
   "version": "3.10.7"
  }
 },
 "nbformat": 4,
 "nbformat_minor": 2
}
